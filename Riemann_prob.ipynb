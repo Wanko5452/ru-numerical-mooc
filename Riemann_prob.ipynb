{
 "cells": [
  {
   "cell_type": "code",
   "execution_count": 1,
   "metadata": {
    "collapsed": true
   },
   "outputs": [],
   "source": [
    "import numpy \n",
    "from matplotlib import pyplot\n",
    "from matplotlib import rcParams\n",
    "rcParams['font.family'] = 'serif'\n",
    "rcParams['font.size'] = 16\n",
    "%matplotlib inline"
   ]
  },
  {
   "cell_type": "code",
   "execution_count": 2,
   "metadata": {
    "collapsed": false
   },
   "outputs": [],
   "source": [
    "def func1(P,p,rho):\n",
    "    gamma = 1.4 \n",
    "    s = (gamma*p/rho)**(1/2)\n",
    "    \n",
    "    if p > P:\n",
    "        return 2*s/(gamma-1)*((P/p)**((gamma-1)/(2*gamma))-1)\n",
    "    else:\n",
    "        return (P-p)/(rho*s)*((gamma+1)/(2*gamma)*P/p+(gamma-1)/(2*gamma))**(-1/2)"
   ]
  },
  {
   "cell_type": "code",
   "execution_count": 3,
   "metadata": {
    "collapsed": true
   },
   "outputs": [],
   "source": [
    "def func1_shtrih(P,p,rho):\n",
    "    gamma = 1.4 \n",
    "    s = (gamma*p/rho)**(1/2)\n",
    "    \n",
    "    if p > P:\n",
    "        return s/(gamma*P)*(P/p)**((gamma-1)/(2*gamma))\n",
    "    else:\n",
    "        return ((gamma+1)*P/p+(3*gamma-1))/(4*gamma*rho*s)*((gamma+1)/(2*gamma)*P/p+(gamma-1)/(2*gamma))**(-3/2)"
   ]
  },
  {
   "cell_type": "code",
   "execution_count": 4,
   "metadata": {
    "collapsed": true
   },
   "outputs": [],
   "source": [
    "def initial_guess(Wl, Wr):\n",
    "    d_l, u_l, p_l = Wl\n",
    "    d_r, u_r, p_r = Wr\n",
    "    c_l = (gamma*p_l/d_l)**(1/2)\n",
    "    c_r = (gamma*p_r/d_r)**(1/2)\n",
    "    P_pv = 0.5*(p_l+p_r)-0.125*(u_r-u_l)*(d_l+d_r)*(c_l+c_r)\n",
    "    P_0 = max(TOL,P_pv)\n",
    "    g_l = ((2/(gamma+1)/d_l)/((gamma-1)/(gamma+1)*p_l+P_0))**0.5\n",
    "    g_r = ((2/(gamma+1)/d_r)/((gamma-1)/(gamma+1)*p_r+P_0))**0.5\n",
    "    p_m = max(((g_l*p_l+g_r*p_r - (u_r-u_l))/(g_l+g_r)), TOL)\n",
    "    \n",
    "    \n",
    "    return p_m\n",
    "   \n"
   ]
  },
  {
   "cell_type": "code",
   "execution_count": 5,
   "metadata": {
    "collapsed": false
   },
   "outputs": [],
   "source": [
    "Wl = numpy.array([1.,0.,1.])\n",
    "Wr = numpy.array([0.125,0., 0.1])\n",
    "gamma = 1.4\n",
    "TOL = 1e-6"
   ]
  },
  {
   "cell_type": "code",
   "execution_count": 6,
   "metadata": {
    "collapsed": false
   },
   "outputs": [
    {
     "name": "stdout",
     "output_type": "stream",
     "text": [
      "5\n"
     ]
    }
   ],
   "source": [
    "z = 0\n",
    "z += 5\n",
    "print(z)"
   ]
  },
  {
   "cell_type": "code",
   "execution_count": 7,
   "metadata": {
    "collapsed": false
   },
   "outputs": [
    {
     "data": {
      "text/plain": [
       "0.31526852260996635"
      ]
     },
     "execution_count": 7,
     "metadata": {},
     "output_type": "execute_result"
    }
   ],
   "source": [
    "initial_guess(Wl, Wr)"
   ]
  },
  {
   "cell_type": "code",
   "execution_count": 6,
   "metadata": {
    "collapsed": true
   },
   "outputs": [],
   "source": [
    "def Newton(Wl, Wr):\n",
    "    d_l, u_l, p_l = Wl\n",
    "    d_r, u_r, p_r = Wr\n",
    "    i = 0\n",
    "    change = 10.\n",
    "    i_max = 100\n",
    "    P_old = initial_guess(Wl, Wr)\n",
    "    u_diff = u_r-u_l\n",
    "    while change>= TOL and i <= i_max:\n",
    "        P = P_old - (func1(P_old, p_l, d_l)+func1(P_old, p_r, d_r)+u_diff)/(func1_shtrih(P_old, p_l, d_l)\\\n",
    "                                                                     +func1_shtrih(P_old, p_r, d_r))\n",
    "        change = abs(P- P_old)/(0.5*(P+P_old))\n",
    "        \n",
    "        P_old = P\n",
    "    return P\n",
    "    "
   ]
  },
  {
   "cell_type": "code",
   "execution_count": 7,
   "metadata": {
    "collapsed": true
   },
   "outputs": [],
   "source": [
    "def sample(Wl,cl,Wr,cr, p_m,u_m, s):\n",
    "    d_l, u_l, p_l = Wl\n",
    "    d_r, u_r, p_r = Wr\n",
    "    if s <= u_m:\n",
    "        if p_m <= p_l: #volna razr. sleva\n",
    "            head_speed_l = u_l - c_l \n",
    "            if s <= head_speed_l: #sleva ot volni razr\n",
    "                d = d_l\n",
    "                u = u_l\n",
    "                p = p_l\n",
    "            else:\n",
    "                c_m_l = c_l*(p_m/p_l)**((gamma-1)/(2*gamma))\n",
    "                tail_speed_l = u_m - c_m_l \n",
    "                \n",
    "                if s>= tail_speed_l:\n",
    "                    d = d_l*(p_m/p_l)**(1./gamma)\n",
    "                    u = u_m\n",
    "                    p = p_m\n",
    "                else: #veer prandtl'a maiera\n",
    "                    u = 2./(gamma+1)*(c_l+ u_l*0.5*(gamma-1)+s)\n",
    "                    c = u - s\n",
    "                    d = d_l*(c/c_l)**(2./(gamma-1))\n",
    "                    p = p_l*(c/c_l)**(2*gamma/(gamma-1))\n",
    "        else:\n",
    "            # sleva -- skaчок\n",
    "            shock_ratio = p_m/p_l\n",
    "            s_l = u_l - c_l*((gamma+1)/(2*gamma)*shock_ratio+(gamma-1)/(2*gamma))**0.5\n",
    "            \n",
    "            if s <= s_l: #sleva ot skaчка\n",
    "                d = d_l\n",
    "                u = u_l\n",
    "                p = p_l\n",
    "            else:#mezdu skaчком i kontaktnim razrivom\n",
    "                d = d_l*(shock_ratio+(gamma-1)/(gamma+1))/((gamma-1)/(gamma+1)*shock_ratio+1.)\n",
    "                u = u_m\n",
    "                p = p_m\n",
    "                \n",
    "    else: #sprava ot razriva\n",
    "        if p_m > p_r:\n",
    "            shock_ratio = p_m/p_r\n",
    "            s_r = u_r +c_r*(((gamma+1)*shock_ratio+(gamma-1))/(2*gamma))**0.5\n",
    "            \n",
    "            if s >= s_r:\n",
    "                d = d_r\n",
    "                u = u_r\n",
    "                p = p_r\n",
    "            else: # mezdu skaчком i kont razrivom\n",
    "                d = d_r*(shock_ratio+(gamma-1)/(gamma+1))/((gamma-1)/(gamma+1)*shock_ratio+1.)\n",
    "                u = u_m\n",
    "                p = p_m\n",
    "        else: #sprava volna\n",
    "            head_speed_r = u_r + c_r\n",
    "            if s >= head_speed_r:\n",
    "                d = d_r\n",
    "                u = u_r\n",
    "                p = p_r\n",
    "            else:\n",
    "                c_m_r = c_r*(p_m/p_r)**((gamma-1)/(2*gamma))\n",
    "                tail_speed_r = u_m + c_m_r\n",
    "                if s <= tail_speed_r:\n",
    "                    d = d_r*(p_m/p_r)**(1/gamma)\n",
    "                    u = u_m\n",
    "                    p = p_m\n",
    "                else:#veer\n",
    "                    u = 2./(gamma+1)*(-c_r+(gamma-1)*0.5*u_r+s)\n",
    "                    c = s - u\n",
    "                    d = d_r*(c/c_r)**(2/(gamma-1))\n",
    "                    p = p_r*(c/c_r)**(2*gamma/(gamma-1))\n",
    "    \n",
    "    return d,u,p\n",
    "                "
   ]
  },
  {
   "cell_type": "code",
   "execution_count": 8,
   "metadata": {
    "collapsed": true
   },
   "outputs": [],
   "source": [
    "length = 1.\n",
    "N = 1001\n",
    "x_dis = 0.5 \n",
    "TOL = 1e-6\n",
    "\n",
    "\n",
    "t_out = 0.25\n",
    "d_l, u_l, p_l = [1.0, 0, 1.0]\n",
    "d_r, u_r, p_r = [0.125, 0, 0.1]\n",
    "Wl = numpy.array([d_l, u_l, p_l])\n",
    "Wr = numpy.array([d_r, u_r, p_r])\n",
    "\n",
    "\n",
    "\n",
    "c_l = (gamma*p_l/d_l)**0.5\n",
    "c_r = (gamma*p_r/d_r)**0.5"
   ]
  },
  {
   "cell_type": "code",
   "execution_count": 9,
   "metadata": {
    "collapsed": false
   },
   "outputs": [
    {
     "name": "stderr",
     "output_type": "stream",
     "text": [
      "D:\\helpprogramms\\Python\\lib\\site-packages\\ipykernel\\__main__.py:5: VisibleDeprecationWarning: using a non-integer number instead of an integer will result in an error in the future\n",
      "D:\\helpprogramms\\Python\\lib\\site-packages\\ipykernel\\__main__.py:6: VisibleDeprecationWarning: using a non-integer number instead of an integer will result in an error in the future\n"
     ]
    }
   ],
   "source": [
    "\n",
    "dx = length/(N-1)\n",
    "x = numpy.linspace(0,1,N)[1:] - 0.5*dx\n",
    "W_init = numpy.zeros((N-1, 3))\n",
    "W_init[:(N-1)/2] = Wl\n",
    "W_init[(N-1)/2:] = Wr"
   ]
  },
  {
   "cell_type": "code",
   "execution_count": 10,
   "metadata": {
    "collapsed": false
   },
   "outputs": [
    {
     "name": "stdout",
     "output_type": "stream",
     "text": [
      "[[ 1.     0.     1.   ]\n",
      " [ 1.     0.     1.   ]\n",
      " [ 1.     0.     1.   ]\n",
      " ..., \n",
      " [ 0.125  0.     0.1  ]\n",
      " [ 0.125  0.     0.1  ]\n",
      " [ 0.125  0.     0.1  ]]\n"
     ]
    }
   ],
   "source": [
    "print(W_init)\n",
    "P = Newton(Wl, Wr)\n",
    "U = 0.5*(u_l+u_r+func1(P, p_r, d_r)\\\n",
    "           -func1(P, p_l, d_l))\n",
    "\n",
    "\n",
    "S = numpy.zeros_like(x)\n",
    "S[:] = (x[:]-x_dis)/t_out\n"
   ]
  },
  {
   "cell_type": "code",
   "execution_count": 11,
   "metadata": {
    "collapsed": false
   },
   "outputs": [],
   "source": [
    "sol = numpy.zeros((N-1,3))\n",
    "for i , s in enumerate(S):\n",
    "    sol[i] = sample(Wl,c_l,Wr,c_r, P,U, s)"
   ]
  },
  {
   "cell_type": "code",
   "execution_count": 12,
   "metadata": {
    "collapsed": false
   },
   "outputs": [
    {
     "data": {
      "text/plain": [
       "[<matplotlib.lines.Line2D at 0x8c33f98>]"
      ]
     },
     "execution_count": 12,
     "metadata": {},
     "output_type": "execute_result"
    },
    {
     "data": {
      "image/png": "[encoded data removed]",
      "text/plain": [
       "<matplotlib.figure.Figure at 0x8b82c18>"
      ]
     },
     "metadata": {},
     "output_type": "display_data"
    }
   ],
   "source": [
    "pyplot.plot(x,sol[:,0])"
   ]
  },
  {
   "cell_type": "code",
   "execution_count": 15,
   "metadata": {
    "collapsed": false
   },
   "outputs": [
    {
     "data": {
      "text/plain": [
       "[<matplotlib.lines.Line2D at 0x5e871d0>]"
      ]
     },
     "execution_count": 15,
     "metadata": {},
     "output_type": "execute_result"
    },
    {
     "data": {
      "image/png": "[encoded data removed]",
      "text/plain": [
       "<matplotlib.figure.Figure at 0x5e17f50>"
      ]
     },
     "metadata": {},
     "output_type": "display_data"
    }
   ],
   "source": [
    "pyplot.plot(x,sol[:,1])"
   ]
  },
  {
   "cell_type": "code",
   "execution_count": 16,
   "metadata": {
    "collapsed": false
   },
   "outputs": [
    {
     "data": {
      "text/plain": [
       "[<matplotlib.lines.Line2D at 0x6186c90>]"
      ]
     },
     "execution_count": 16,
     "metadata": {},
     "output_type": "execute_result"
    },
    {
     "data": {
      "image/png": "[encoded data removed]",
      "text/plain": [
       "<matplotlib.figure.Figure at 0x5e6c9b0>"
      ]
     },
     "metadata": {},
     "output_type": "display_data"
    }
   ],
   "source": [
    "pyplot.plot(x,sol[:,2])"
   ]
  },
  {
   "cell_type": "code",
   "execution_count": 68,
   "metadata": {
    "collapsed": true
   },
   "outputs": [],
   "source": [
    "#Test №2\n",
    "t_out = 0.15\n",
    "d_l, u_l, p_l = [1.0, -2., 0.4]\n",
    "d_r, u_r, p_r = [1.0, 2., 0.4]\n",
    "Wl = numpy.array([d_l, u_l, p_l])\n",
    "Wr = numpy.array([d_r, u_r, p_r])\n",
    "\n",
    "\n",
    "\n",
    "c_l = (gamma*p_l/d_l)**0.5\n",
    "c_r = (gamma*p_r/d_r)**0.5"
   ]
  },
  {
   "cell_type": "code",
   "execution_count": 69,
   "metadata": {
    "collapsed": false
   },
   "outputs": [
    {
     "name": "stderr",
     "output_type": "stream",
     "text": [
      "C:\\Anaconda3\\lib\\site-packages\\ipykernel\\__main__.py:4: VisibleDeprecationWarning: using a non-integer number instead of an integer will result in an error in the future\n",
      "C:\\Anaconda3\\lib\\site-packages\\ipykernel\\__main__.py:5: VisibleDeprecationWarning: using a non-integer number instead of an integer will result in an error in the future\n"
     ]
    }
   ],
   "source": [
    "dx = length/(N-1)\n",
    "x = numpy.linspace(0,1,N)[1:] - 0.5*dx\n",
    "W_init = numpy.zeros((N-1, 3))\n",
    "W_init[:(N-1)/2] = Wl\n",
    "W_init[(N-1)/2:] = Wr"
   ]
  },
  {
   "cell_type": "code",
   "execution_count": 70,
   "metadata": {
    "collapsed": false
   },
   "outputs": [],
   "source": [
    "P = Newton(Wl, Wr)\n",
    "U = 0.5*(u_l+u_r+func1(P, p_r, d_r)\\\n",
    "           -func1(P, p_l, d_l))\n",
    "\n",
    "\n",
    "S = numpy.zeros_like(x)\n",
    "S[:] = (x[:]-x_dis)/t_out"
   ]
  },
  {
   "cell_type": "code",
   "execution_count": 71,
   "metadata": {
    "collapsed": false
   },
   "outputs": [
    {
     "data": {
      "text/plain": [
       "1e-06"
      ]
     },
     "execution_count": 71,
     "metadata": {},
     "output_type": "execute_result"
    }
   ],
   "source": [
    "initial_guess(Wl, Wr)"
   ]
  },
  {
   "cell_type": "code",
   "execution_count": 72,
   "metadata": {
    "collapsed": false
   },
   "outputs": [],
   "source": [
    "sol = numpy.zeros((N-1,3))\n",
    "for i , s in enumerate(S):\n",
    "    sol[i] = sample(Wl,c_l,Wr,c_r, P,U, s)"
   ]
  },
  {
   "cell_type": "code",
   "execution_count": 73,
   "metadata": {
    "collapsed": false
   },
   "outputs": [
    {
     "data": {
      "image/png": "[encoded data removed]",
      "text/plain": [
       "<matplotlib.figure.Figure at 0x72c39b0>"
      ]
     },
     "metadata": {},
     "output_type": "display_data"
    }
   ],
   "source": [
    "pyplot.plot(x,sol[:,0]);"
   ]
  },
  {
   "cell_type": "code",
   "execution_count": 74,
   "metadata": {
    "collapsed": false
   },
   "outputs": [
    {
     "data": {
      "image/png": "[encoded data removed]",
      "text/plain": [
       "<matplotlib.figure.Figure at 0x72c9a10>"
      ]
     },
     "metadata": {},
     "output_type": "display_data"
    }
   ],
   "source": [
    "pyplot.plot(x,sol[:,1]);"
   ]
  },
  {
   "cell_type": "code",
   "execution_count": 24,
   "metadata": {
    "collapsed": false
   },
   "outputs": [
    {
     "data": {
      "image/png": "[encoded data removed]",
      "text/plain": [
       "<matplotlib.figure.Figure at 0x6171450>"
      ]
     },
     "metadata": {},
     "output_type": "display_data"
    }
   ],
   "source": [
    "pyplot.plot(x,sol[:,2]);"
   ]
  },
  {
   "cell_type": "code",
   "execution_count": 25,
   "metadata": {
    "collapsed": true
   },
   "outputs": [],
   "source": [
    "#Test №3\n",
    "t_out =  0.012\n",
    "d_l, u_l, p_l = [1.0, 0, 1000]\n",
    "d_r, u_r, p_r = [1.0, 0, 0.01]\n",
    "Wl = numpy.array([d_l, u_l, p_l])\n",
    "Wr = numpy.array([d_r, u_r, p_r])\n",
    "\n",
    "\n",
    "\n",
    "c_l = (gamma*p_l/d_l)**0.5\n",
    "c_r = (gamma*p_r/d_r)**0.5"
   ]
  },
  {
   "cell_type": "code",
   "execution_count": 26,
   "metadata": {
    "collapsed": false
   },
   "outputs": [
    {
     "name": "stderr",
     "output_type": "stream",
     "text": [
      "C:\\Anaconda3\\lib\\site-packages\\ipykernel\\__main__.py:4: VisibleDeprecationWarning: using a non-integer number instead of an integer will result in an error in the future\n",
      "C:\\Anaconda3\\lib\\site-packages\\ipykernel\\__main__.py:5: VisibleDeprecationWarning: using a non-integer number instead of an integer will result in an error in the future\n"
     ]
    }
   ],
   "source": [
    "dx = length/(N-1)\n",
    "x = numpy.linspace(0,1,N)[1:] - 0.5*dx\n",
    "W_init = numpy.zeros((N-1, 3))\n",
    "W_init[:(N-1)/2] = Wl\n",
    "W_init[(N-1)/2:] = Wr"
   ]
  },
  {
   "cell_type": "code",
   "execution_count": 27,
   "metadata": {
    "collapsed": true
   },
   "outputs": [],
   "source": [
    "P = Newton(Wl, Wr)\n",
    "U = 0.5*(u_l+u_r+func1(P, p_r, d_r)\\\n",
    "           -func1(P, p_l, d_l))\n",
    "\n",
    "\n",
    "S = numpy.zeros_like(x)\n",
    "S[:] = (x[:]-x_dis)/t_out"
   ]
  },
  {
   "cell_type": "code",
   "execution_count": 28,
   "metadata": {
    "collapsed": false
   },
   "outputs": [
    {
     "data": {
      "text/plain": [
       "464.10769951484457"
      ]
     },
     "execution_count": 28,
     "metadata": {},
     "output_type": "execute_result"
    }
   ],
   "source": [
    "initial_guess(Wl, Wr)"
   ]
  },
  {
   "cell_type": "code",
   "execution_count": 29,
   "metadata": {
    "collapsed": true
   },
   "outputs": [],
   "source": [
    "sol = numpy.zeros((N-1,3))\n",
    "for i , s in enumerate(S):\n",
    "    sol[i] = sample(Wl,c_l,Wr,c_r, P,U, s)"
   ]
  },
  {
   "cell_type": "code",
   "execution_count": 30,
   "metadata": {
    "collapsed": false
   },
   "outputs": [
    {
     "data": {
      "image/png": "[encoded data removed]",
      "text/plain": [
       "<matplotlib.figure.Figure at 0x5e63970>"
      ]
     },
     "metadata": {},
     "output_type": "display_data"
    }
   ],
   "source": [
    "pyplot.plot(x,sol[:,0]);"
   ]
  },
  {
   "cell_type": "code",
   "execution_count": 31,
   "metadata": {
    "collapsed": false
   },
   "outputs": [
    {
     "data": {
      "image/png": "[encoded data removed]",
      "text/plain": [
       "<matplotlib.figure.Figure at 0x5e63870>"
      ]
     },
     "metadata": {},
     "output_type": "display_data"
    }
   ],
   "source": [
    "pyplot.plot(x,sol[:,1]);"
   ]
  },
  {
   "cell_type": "code",
   "execution_count": 32,
   "metadata": {
    "collapsed": false
   },
   "outputs": [
    {
     "data": {
      "image/png": "[encoded data removed]",
      "text/plain": [
       "<matplotlib.figure.Figure at 0x5ed04f0>"
      ]
     },
     "metadata": {},
     "output_type": "display_data"
    }
   ],
   "source": [
    "pyplot.plot(x,sol[:,2]);"
   ]
  },
  {
   "cell_type": "code",
   "execution_count": 33,
   "metadata": {
    "collapsed": true
   },
   "outputs": [],
   "source": [
    "#Test №4\n",
    "t_out =  0.035\n",
    "d_l, u_l, p_l = [1.0, 0, 0.01]\n",
    "d_r, u_r, p_r = [1.0, 0, 100.]\n",
    "Wl = numpy.array([d_l, u_l, p_l])\n",
    "Wr = numpy.array([d_r, u_r, p_r])\n",
    "\n",
    "\n",
    "\n",
    "c_l = (gamma*p_l/d_l)**0.5\n",
    "c_r = (gamma*p_r/d_r)**0.5"
   ]
  },
  {
   "cell_type": "code",
   "execution_count": 34,
   "metadata": {
    "collapsed": false
   },
   "outputs": [
    {
     "name": "stderr",
     "output_type": "stream",
     "text": [
      "C:\\Anaconda3\\lib\\site-packages\\ipykernel\\__main__.py:4: VisibleDeprecationWarning: using a non-integer number instead of an integer will result in an error in the future\n",
      "C:\\Anaconda3\\lib\\site-packages\\ipykernel\\__main__.py:5: VisibleDeprecationWarning: using a non-integer number instead of an integer will result in an error in the future\n"
     ]
    }
   ],
   "source": [
    "dx = length/(N-1)\n",
    "x = numpy.linspace(0,1,N)[1:] - 0.5*dx\n",
    "W_init = numpy.zeros((N-1, 3))\n",
    "W_init[:(N-1)/2] = Wl\n",
    "W_init[(N-1)/2:] = Wr"
   ]
  },
  {
   "cell_type": "code",
   "execution_count": 35,
   "metadata": {
    "collapsed": true
   },
   "outputs": [],
   "source": [
    "P = Newton(Wl, Wr)\n",
    "U = 0.5*(u_l+u_r+func1(P, p_r, d_r)\\\n",
    "           -func1(P, p_l, d_l))\n",
    "\n",
    "\n",
    "S = numpy.zeros_like(x)\n",
    "S[:] = (x[:]-x_dis)/t_out"
   ]
  },
  {
   "cell_type": "code",
   "execution_count": 36,
   "metadata": {
    "collapsed": true
   },
   "outputs": [],
   "source": [
    "sol = numpy.zeros((N-1,3))\n",
    "for i , s in enumerate(S):\n",
    "    sol[i] = sample(Wl,c_l,Wr,c_r, P,U, s)"
   ]
  },
  {
   "cell_type": "code",
   "execution_count": 37,
   "metadata": {
    "collapsed": false
   },
   "outputs": [
    {
     "data": {
      "image/png": "[encoded data removed]",
      "text/plain": [
       "<matplotlib.figure.Figure at 0x5f311f0>"
      ]
     },
     "metadata": {},
     "output_type": "display_data"
    }
   ],
   "source": [
    "pyplot.plot(x,sol[:,0]);"
   ]
  },
  {
   "cell_type": "code",
   "execution_count": 38,
   "metadata": {
    "collapsed": false
   },
   "outputs": [
    {
     "data": {
      "image/png": "[encoded data removed]",
      "text/plain": [
       "<matplotlib.figure.Figure at 0x5ecbb90>"
      ]
     },
     "metadata": {},
     "output_type": "display_data"
    }
   ],
   "source": [
    "pyplot.plot(x,sol[:,1]);"
   ]
  },
  {
   "cell_type": "code",
   "execution_count": 39,
   "metadata": {
    "collapsed": false
   },
   "outputs": [
    {
     "data": {
      "image/png": "[encoded data removed]",
      "text/plain": [
       "<matplotlib.figure.Figure at 0x72183f0>"
      ]
     },
     "metadata": {},
     "output_type": "display_data"
    }
   ],
   "source": [
    "pyplot.plot(x,sol[:,2]);"
   ]
  },
  {
   "cell_type": "code",
   "execution_count": 40,
   "metadata": {
    "collapsed": true
   },
   "outputs": [],
   "source": [
    "#Test №5\n",
    "t_out =  0.035\n",
    "d_l, u_l, p_l = [5.99924, 19.5975, 460.894]\n",
    "d_r, u_r, p_r = [5.99242, -6.19633, 46.095]\n",
    "Wl = numpy.array([d_l, u_l, p_l])\n",
    "Wr = numpy.array([d_r, u_r, p_r])\n",
    "\n",
    "\n",
    "\n",
    "c_l = (gamma*p_l/d_l)**0.5\n",
    "c_r = (gamma*p_r/d_r)**0.5"
   ]
  },
  {
   "cell_type": "code",
   "execution_count": 41,
   "metadata": {
    "collapsed": false
   },
   "outputs": [
    {
     "name": "stderr",
     "output_type": "stream",
     "text": [
      "C:\\Anaconda3\\lib\\site-packages\\ipykernel\\__main__.py:4: VisibleDeprecationWarning: using a non-integer number instead of an integer will result in an error in the future\n",
      "C:\\Anaconda3\\lib\\site-packages\\ipykernel\\__main__.py:5: VisibleDeprecationWarning: using a non-integer number instead of an integer will result in an error in the future\n"
     ]
    }
   ],
   "source": [
    "dx = length/(N-1)\n",
    "x = numpy.linspace(0,1,N)[1:] - 0.5*dx\n",
    "W_init = numpy.zeros((N-1, 3))\n",
    "W_init[:(N-1)/2] = Wl\n",
    "W_init[(N-1)/2:] = Wr"
   ]
  },
  {
   "cell_type": "code",
   "execution_count": 42,
   "metadata": {
    "collapsed": true
   },
   "outputs": [],
   "source": [
    "P = Newton(Wl, Wr)\n",
    "U = 0.5*(u_l+u_r+func1(P, p_r, d_r)\\\n",
    "           -func1(P, p_l, d_l))\n",
    "\n",
    "\n",
    "S = numpy.zeros_like(x)\n",
    "S[:] = (x[:]-x_dis)/t_out"
   ]
  },
  {
   "cell_type": "code",
   "execution_count": 43,
   "metadata": {
    "collapsed": true
   },
   "outputs": [],
   "source": [
    "sol = numpy.zeros((N-1,3))\n",
    "for i , s in enumerate(S):\n",
    "    sol[i] = sample(Wl,c_l,Wr,c_r, P,U, s)"
   ]
  },
  {
   "cell_type": "code",
   "execution_count": 44,
   "metadata": {
    "collapsed": false
   },
   "outputs": [
    {
     "data": {
      "image/png": "[encoded data removed]",
      "text/plain": [
       "<matplotlib.figure.Figure at 0x5f24410>"
      ]
     },
     "metadata": {},
     "output_type": "display_data"
    }
   ],
   "source": [
    "pyplot.plot(x,sol[:,0]);"
   ]
  },
  {
   "cell_type": "code",
   "execution_count": 45,
   "metadata": {
    "collapsed": false
   },
   "outputs": [
    {
     "data": {
      "image/png": "[encoded data removed]",
      "text/plain": [
       "<matplotlib.figure.Figure at 0x7333110>"
      ]
     },
     "metadata": {},
     "output_type": "display_data"
    }
   ],
   "source": [
    "pyplot.plot(x,sol[:,1]);"
   ]
  },
  {
   "cell_type": "code",
   "execution_count": 46,
   "metadata": {
    "collapsed": false
   },
   "outputs": [
    {
     "data": {
      "image/png": "[encoded data removed]",
      "text/plain": [
       "<matplotlib.figure.Figure at 0x722ffd0>"
      ]
     },
     "metadata": {},
     "output_type": "display_data"
    }
   ],
   "source": [
    "pyplot.plot(x,sol[:,2]);"
   ]
  },
  {
   "cell_type": "code",
   "execution_count": 21,
   "metadata": {
    "collapsed": true
   },
   "outputs": [],
   "source": [
    "# Test-1\n",
    "length = 1.\n",
    "N = 1001\n",
    "x_dis = 0.5 \n",
    "TOL = 1e-6\n",
    "\n",
    "\n",
    "t_out = 0.25\n",
    "d_l, u_l, p_l = [1.0, 0, 1.0]\n",
    "d_r, u_r, p_r = [0.125, 0, 0.1]\n",
    "Wl = numpy.array([d_l, u_l, p_l])\n",
    "Wr = numpy.array([d_r, u_r, p_r])\n",
    "\n",
    "\n",
    "\n",
    "c_l = (gamma*p_l/d_l)**0.5\n",
    "c_r = (gamma*p_r/d_r)**0.5"
   ]
  },
  {
   "cell_type": "code",
   "execution_count": 22,
   "metadata": {
    "collapsed": false
   },
   "outputs": [
    {
     "name": "stderr",
     "output_type": "stream",
     "text": [
      "D:\\helpprogramms\\Python\\lib\\site-packages\\ipykernel\\__main__.py:7: VisibleDeprecationWarning: using a non-integer number instead of an integer will result in an error in the future\n",
      "D:\\helpprogramms\\Python\\lib\\site-packages\\ipykernel\\__main__.py:8: VisibleDeprecationWarning: using a non-integer number instead of an integer will result in an error in the future\n"
     ]
    }
   ],
   "source": [
    "dx = length/(N-1)\n",
    "sigma1 = 0.08\n",
    "dt = sigma1*dx\n",
    "nt = t_out/dt\n",
    "x = numpy.linspace(0,1,N)[1:] - 0.5*dx\n",
    "W_init = numpy.zeros((N-1, 3))\n",
    "W_init[:(N-1)/2] = Wl\n",
    "W_init[(N-1)/2:] = Wr"
   ]
  },
  {
   "cell_type": "code",
   "execution_count": 23,
   "metadata": {
    "collapsed": false
   },
   "outputs": [
    {
     "name": "stdout",
     "output_type": "stream",
     "text": [
      "(1000, 3)\n"
     ]
    }
   ],
   "source": [
    "print(W_init.shape)\n",
    "W_init_trans = numpy.transpose(W_init)"
   ]
  },
  {
   "cell_type": "code",
   "execution_count": 24,
   "metadata": {
    "collapsed": false
   },
   "outputs": [
    {
     "name": "stdout",
     "output_type": "stream",
     "text": [
      "(3, 1000)\n"
     ]
    }
   ],
   "source": [
    "print(W_init_trans.shape)"
   ]
  },
  {
   "cell_type": "code",
   "execution_count": 13,
   "metadata": {
    "collapsed": true
   },
   "outputs": [],
   "source": [
    "def f(u):\n",
    "    \n",
    "    \"\"\"\n",
    "    Functia potokov konservativnih peremenih\n",
    "    \"\"\"\n",
    "    u1 = u[0]\n",
    "    u2 = u[1]\n",
    "    u3 = u[2]\n",
    "    \n",
    "    \n",
    "    return numpy.array([u2, u2*u2/u1+(gamma-1)*(u3-0.5*u2*u2/u1),\n",
    "                      (u3+(gamma-1)*(u3-0.5*u2*u2/u1))*u2/u1])"
   ]
  },
  {
   "cell_type": "code",
   "execution_count": 14,
   "metadata": {
    "collapsed": true
   },
   "outputs": [],
   "source": [
    "def f1(u):\n",
    "    \"Functia perehoda ot primitivnih k konservativnim peremennim\"\n",
    "    Rho = u[0]\n",
    "    v = u[1]\n",
    "    p = u[2]\n",
    "    e = p/((gamma-1)*Rho)\n",
    "    eT = e+0.5*v*v\n",
    "    return numpy.array([Rho, Rho*v, Rho*eT]) "
   ]
  },
  {
   "cell_type": "code",
   "execution_count": 53,
   "metadata": {
    "collapsed": false
   },
   "outputs": [
    {
     "name": "stdout",
     "output_type": "stream",
     "text": [
      "(3, 1000) (3, 1000)\n"
     ]
    }
   ],
   "source": [
    "u = f1(W_init_trans) #flux variables \n",
    "\n",
    "\n",
    "u_star = numpy.zeros((len(u),len(u[0])))\n",
    "u_n = numpy.zeros_like(u)      \n",
    "    #copy the initial u array into each row of our new array\n",
    "print(u.shape,u_star.shape)\n"
   ]
  },
  {
   "cell_type": "code",
   "execution_count": 54,
   "metadata": {
    "collapsed": false
   },
   "outputs": [
    {
     "name": "stdout",
     "output_type": "stream",
     "text": [
      "[[ 1.     1.     1.    ...,  0.125  0.125  0.125]\n",
      " [ 0.     0.     0.    ...,  0.     0.     0.   ]\n",
      " [ 2.5    2.5    2.5   ...,  0.25   0.25   0.25 ]]\n"
     ]
    }
   ],
   "source": [
    "print(u)"
   ]
  },
  {
   "cell_type": "code",
   "execution_count": 55,
   "metadata": {
    "collapsed": false
   },
   "outputs": [],
   "source": [
    "def Godunov(u,nt,dt,dx):\n",
    "    u_plus = numpy.zeros_like(u)\n",
    "    u_minus = numpy.zeros_like(u)\n",
    "    flux = numpy.zeros_like(u)\n",
    "    for n in range(0,int(nt)):\n",
    "        #print('next step')\n",
    "    \n",
    "        u_n = u.copy() \n",
    "        #print(n)\n",
    "    \n",
    "    \n",
    "   \n",
    "    \n",
    "    \n",
    "    \n",
    "        u_plus[:,:-1] = u[:,1:] # Can't do i+1/2 indices, so cell boundary\n",
    "        u_minus = u.copy() # arrays at index i are at location i+1/2\n",
    "        flux = 0.5 * (f(u_minus) + \n",
    "                      f(u_plus) + \n",
    "                      dx / dt * (u_minus - u_plus))\n",
    "        u_n[:,1:-1] = u[:,1:-1] + dt/dx*(flux[:,:-2]-flux[:,1:-1])\n",
    "        u_n[:,0] = u[:,0]\n",
    "        u_n[:,-1] = u[:,-1]\n",
    "        u = u_n.copy()\n",
    "    return u"
   ]
  },
  {
   "cell_type": "code",
   "execution_count": 15,
   "metadata": {
    "collapsed": true
   },
   "outputs": [],
   "source": [
    "def f3(u):\n",
    "    u1 = u[0]\n",
    "    u2 = u[1]\n",
    "    u3 = u[2]\n",
    "   \n",
    "    return numpy.array([u1, u2/u1, (u3/u1-0.5*u2*u2/u1/u1)*((gamma-1)*u1)])\n"
   ]
  },
  {
   "cell_type": "code",
   "execution_count": 57,
   "metadata": {
    "collapsed": false
   },
   "outputs": [
    {
     "name": "stderr",
     "output_type": "stream",
     "text": [
      "C:\\Anaconda3\\lib\\site-packages\\ipykernel\\__main__.py:11: RuntimeWarning: invalid value encountered in true_divide\n",
      "C:\\Anaconda3\\lib\\site-packages\\ipykernel\\__main__.py:12: RuntimeWarning: invalid value encountered in true_divide\n"
     ]
    }
   ],
   "source": [
    "\"polucenie resenia\"\n",
    "U2 = Godunov(u,nt,dt,dx)\n",
    "\n"
   ]
  },
  {
   "cell_type": "code",
   "execution_count": 58,
   "metadata": {
    "collapsed": false
   },
   "outputs": [],
   "source": [
    "z3 = f3(U2)\n",
    "\"zapolnenie massiva\"\n",
    "\n",
    "p3 = numpy.arange(len(u[0]))\n",
    "p3 = z3[2,:]\n",
    "\n",
    "rho3 = numpy.arange(len(u[0]))\n",
    "rho3 = z3[0,:]\n",
    "v3 = numpy.arange(len(u[0]))\n",
    "v3 = z3[1,:]"
   ]
  },
  {
   "cell_type": "code",
   "execution_count": 59,
   "metadata": {
    "collapsed": false
   },
   "outputs": [
    {
     "data": {
      "image/png": "[encoded data removed]",
      "text/plain": [
       "<matplotlib.figure.Figure at 0x72903f0>"
      ]
     },
     "metadata": {},
     "output_type": "display_data"
    }
   ],
   "source": [
    "pyplot.plot(x,p3);"
   ]
  },
  {
   "cell_type": "code",
   "execution_count": 60,
   "metadata": {
    "collapsed": true
   },
   "outputs": [],
   "source": [
    "#Test №2\n",
    "t_out = 0.15\n",
    "d_l, u_l, p_l = [1.0, -2., 0.4]\n",
    "d_r, u_r, p_r = [1.0, 2., 0.4]\n",
    "Wl = numpy.array([d_l, u_l, p_l])\n",
    "Wr = numpy.array([d_r, u_r, p_r])\n",
    "\n",
    "\n",
    "\n",
    "c_l = (gamma*p_l/d_l)**0.5\n",
    "c_r = (gamma*p_r/d_r)**0.5"
   ]
  },
  {
   "cell_type": "code",
   "execution_count": 61,
   "metadata": {
    "collapsed": false
   },
   "outputs": [
    {
     "name": "stderr",
     "output_type": "stream",
     "text": [
      "C:\\Anaconda3\\lib\\site-packages\\ipykernel\\__main__.py:7: VisibleDeprecationWarning: using a non-integer number instead of an integer will result in an error in the future\n",
      "C:\\Anaconda3\\lib\\site-packages\\ipykernel\\__main__.py:8: VisibleDeprecationWarning: using a non-integer number instead of an integer will result in an error in the future\n"
     ]
    }
   ],
   "source": [
    "dx = length/(N-1)\n",
    "sigma1 = 0.08\n",
    "dt = sigma1*dx\n",
    "nt = t_out/dt\n",
    "x = numpy.linspace(0,1,N)[1:] - 0.5*dx\n",
    "W_init = numpy.zeros((N-1, 3))\n",
    "W_init[:(N-1)/2] = Wl\n",
    "W_init[(N-1)/2:] = Wr"
   ]
  },
  {
   "cell_type": "code",
   "execution_count": 62,
   "metadata": {
    "collapsed": false
   },
   "outputs": [
    {
     "name": "stdout",
     "output_type": "stream",
     "text": [
      "(1000, 3)\n"
     ]
    }
   ],
   "source": [
    "print(W_init.shape)\n",
    "W_init_trans = numpy.transpose(W_init)"
   ]
  },
  {
   "cell_type": "code",
   "execution_count": 63,
   "metadata": {
    "collapsed": false
   },
   "outputs": [
    {
     "name": "stdout",
     "output_type": "stream",
     "text": [
      "(3, 1000) (3, 1000)\n"
     ]
    }
   ],
   "source": [
    "u = f1(W_init_trans) #flux variables \n",
    "\n",
    "\n",
    "u_star = numpy.zeros((len(u),len(u[0])))\n",
    "u_n = numpy.zeros_like(u)      \n",
    "    #copy the initial u array into each row of our new array\n",
    "print(u.shape,u_star.shape)"
   ]
  },
  {
   "cell_type": "code",
   "execution_count": 64,
   "metadata": {
    "collapsed": false
   },
   "outputs": [
    {
     "name": "stderr",
     "output_type": "stream",
     "text": [
      "C:\\Anaconda3\\lib\\site-packages\\ipykernel\\__main__.py:11: RuntimeWarning: invalid value encountered in true_divide\n",
      "C:\\Anaconda3\\lib\\site-packages\\ipykernel\\__main__.py:12: RuntimeWarning: invalid value encountered in true_divide\n"
     ]
    }
   ],
   "source": [
    "\"polucenie resenia\"\n",
    "U2 = Godunov(u,nt,dt,dx)\n",
    "\n"
   ]
  },
  {
   "cell_type": "code",
   "execution_count": 65,
   "metadata": {
    "collapsed": true
   },
   "outputs": [],
   "source": [
    "z3 = f3(U2)\n",
    "\"zapolnenie massiva\"\n",
    "\n",
    "p3 = numpy.arange(len(u[0]))\n",
    "p3 = z3[2,:]\n",
    "\n",
    "rho3 = numpy.arange(len(u[0]))\n",
    "rho3 = z3[0,:]\n",
    "v3 = numpy.arange(len(u[0]))\n",
    "v3 = z3[1,:]"
   ]
  },
  {
   "cell_type": "code",
   "execution_count": 66,
   "metadata": {
    "collapsed": false
   },
   "outputs": [
    {
     "data": {
      "image/png": "[encoded data removed]",
      "text/plain": [
       "<matplotlib.figure.Figure at 0x72cefd0>"
      ]
     },
     "metadata": {},
     "output_type": "display_data"
    }
   ],
   "source": [
    "pyplot.plot(x,p3);"
   ]
  },
  {
   "cell_type": "code",
   "execution_count": 75,
   "metadata": {
    "collapsed": false
   },
   "outputs": [
    {
     "data": {
      "image/png": "[encoded data removed]",
      "text/plain": [
       "<matplotlib.figure.Figure at 0x734e4f0>"
      ]
     },
     "metadata": {},
     "output_type": "display_data"
    }
   ],
   "source": [
    "pyplot.plot(x,v3)\n",
    "pyplot.plot(x,sol[:,1]);"
   ]
  },
  {
   "cell_type": "code",
   "execution_count": 40,
   "metadata": {
    "collapsed": false
   },
   "outputs": [
    {
     "name": "stdout",
     "output_type": "stream",
     "text": [
      "(1000, 3)\n"
     ]
    }
   ],
   "source": [
    "print(W_init.shape)\n",
    "c3 = numpy.zeros(N-1)"
   ]
  },
  {
   "cell_type": "code",
   "execution_count": 41,
   "metadata": {
    "collapsed": false
   },
   "outputs": [],
   "source": [
    "def calc_dt(W, CFL):\n",
    "    c2 = numpy.zeros(N-1)\n",
    "    \n",
    "    #print(c2.shape)\n",
    "    for n, i in enumerate(W):\n",
    "        c = (gamma*i[2]/i[0])**0.5\n",
    "        c1 = max(abs(i[1]+c),abs(i[1]-c), abs(i[1]))\n",
    "        c2[n] = c1\n",
    "        \n",
    "    s = numpy.max(c2)\n",
    "    dt = CFL*dx/s\n",
    "    return dt\n",
    "    \n",
    "        "
   ]
  },
  {
   "cell_type": "code",
   "execution_count": 47,
   "metadata": {
    "collapsed": false
   },
   "outputs": [
    {
     "name": "stdout",
     "output_type": "stream",
     "text": [
      "0.000845154254729\n"
     ]
    }
   ],
   "source": [
    "dt = calc_dt(W_init, 1)\n",
    "print(dt)"
   ]
  },
  {
   "cell_type": "code",
   "execution_count": 26,
   "metadata": {
    "collapsed": true
   },
   "outputs": [],
   "source": [
    "P = Newton(Wl, Wr)\n",
    "U = 0.5*(u_l+u_r+func1(P, p_r, d_r)\\\n",
    "           -func1(P, p_l, d_l))"
   ]
  },
  {
   "cell_type": "code",
   "execution_count": 65,
   "metadata": {
    "collapsed": false
   },
   "outputs": [],
   "source": [
    "def get_BV(W):\n",
    "    big_values= numpy.zeros((N, 3))\n",
    "    for i in range(1, N-1):\n",
    "        W_l = W[i-1]\n",
    "        W_r = W[i]\n",
    "        c_l = (gamma*W[i-1][2]/W[i-1][0])**0.5\n",
    "        c_r = (gamma*W[i][2]/W[i][0])**0.5\n",
    "        P = Newton(W_l, W_r)\n",
    "        U = 0.5*(W_l[1]+W_r[1]+func1(P, W_r[2], W_r[0])\\\n",
    "           -func1(P, W_l[2], W_l[0]))\n",
    "        big_values[i] = sample(W_l,c_l, W_r, c_r, P, U, 0)\n",
    "                 \n",
    "    big_values[0] = big_values[1].copy()\n",
    "    big_values[N-1] = big_values[N-2].copy()\n",
    "    #print(big_values[N-1])\n",
    "    #print(big_values[N])\n",
    "    return big_values"
   ]
  },
  {
   "cell_type": "code",
   "execution_count": 59,
   "metadata": {
    "collapsed": false
   },
   "outputs": [
    {
     "name": "stdout",
     "output_type": "stream",
     "text": [
      "[ 0.125  0.     0.1  ]\n",
      "(1001, 3)\n",
      "[[ 1.     0.     1.   ]\n",
      " [ 1.     0.     1.   ]\n",
      " [ 1.     0.     1.   ]\n",
      " ..., \n",
      " [ 0.125  0.     0.1  ]\n",
      " [ 0.125  0.     0.1  ]\n",
      " [ 0.125  0.     0.1  ]]\n"
     ]
    }
   ],
   "source": [
    "W_BV = get_BV(W_init)\n",
    "print(W_BV.shape)\n",
    "print(W_init)"
   ]
  },
  {
   "cell_type": "code",
   "execution_count": 85,
   "metadata": {
    "collapsed": false
   },
   "outputs": [
    {
     "name": "stdout",
     "output_type": "stream",
     "text": [
      "[[ 1.     1.     1.    ...,  0.125  0.125  0.125]\n",
      " [ 0.     0.     0.    ...,  0.     0.     0.   ]\n",
      " [ 2.5    2.5    2.5   ...,  0.25   0.25   0.25 ]]\n"
     ]
    }
   ],
   "source": []
  },
  {
   "cell_type": "code",
   "execution_count": 94,
   "metadata": {
    "collapsed": true
   },
   "outputs": [],
   "source": [
    "def Godunov_our_God(W_init):\n",
    "    \n",
    "    W_init_trans = numpy.transpose(W_init)\n",
    "    u_conserv = f1(W_init_trans)\n",
    "    #W_BV = get_BV(W_init)\n",
    "    #W_BV_trans = numpy.transpose(W_BV)\n",
    "    c3 = numpy.zeros(N-1)\n",
    "    #W_BV_conserv =f1(W_BV_trans)\n",
    "    \n",
    "    #nt = t_out/dt\n",
    "    nt = 100\n",
    "    for n in range(0,int(nt)):\n",
    "        #print('next step')\n",
    "                                \n",
    "        u_n = u_conserv.copy() \n",
    "        \n",
    "        W_n = f3(u_n)\n",
    "        W_BV = get_BV(numpy.transpose(W_n))\n",
    "        W_BV_trans = numpy.transpose(W_BV)\n",
    "        W_BV_conserv =f1(W_BV_trans)\n",
    "        #W_BV_conserv_n = W_BV_conserv.copy()\n",
    "        \n",
    "        #print(n)\n",
    "        for n, i in enumerate(numpy.transpose(W_n)):\n",
    "            c = (gamma*i[2]/i[0])**0.5\n",
    "            c3[n] = c\n",
    "    \n",
    "         \n",
    "        flux = f(W_BV_conserv)\n",
    "        #print(c3.shape)\n",
    "        #print(u_n.shape)\n",
    "        #print(u_conserv.shape)\n",
    "        #print(flux.shape)\n",
    "        u_n[:,1:-1] = u_conserv[:,1:-1] + c3[1:-1]*dt/dx*(flux[:,1:-2]-flux[:,1:-2])\n",
    "        u_n[:,0] = u_conserv[:,0]\n",
    "        u_n[:,-1] = u_conserv[:,-1]\n",
    "        u_conserv = u_n.copy()\n",
    "    return u_conserv"
   ]
  },
  {
   "cell_type": "code",
   "execution_count": 95,
   "metadata": {
    "collapsed": false
   },
   "outputs": [
    {
     "name": "stdout",
     "output_type": "stream",
     "text": [
      "[[ 1.     1.     1.    ...,  0.125  0.125  0.125]\n",
      " [ 0.     0.     0.    ...,  0.     0.     0.   ]\n",
      " [ 2.5    2.5    2.5   ...,  0.25   0.25   0.25 ]]\n"
     ]
    }
   ],
   "source": [
    "Solution = Godunov_our_God(W_init)\n",
    "print(Solution)"
   ]
  },
  {
   "cell_type": "code",
   "execution_count": 96,
   "metadata": {
    "collapsed": true
   },
   "outputs": [],
   "source": [
    "Sol_prim = f3(Solution)"
   ]
  },
  {
   "cell_type": "code",
   "execution_count": 97,
   "metadata": {
    "collapsed": true
   },
   "outputs": [],
   "source": [
    "#p3 = numpy.arange(len(u[0]))\n",
    "p = Sol_prim[2,:]\n",
    "\n",
    "#rho3 = numpy.arange(len(u[0]))\n",
    "rho = Sol_prim[0,:]\n",
    "#v3 = numpy.arange(len(u[0]))\n",
    "v = Sol_prim[1,:]"
   ]
  },
  {
   "cell_type": "code",
   "execution_count": 98,
   "metadata": {
    "collapsed": false
   },
   "outputs": [
    {
     "data": {
      "image/png": "[encoded data removed]",
      "text/plain": [
       "<matplotlib.figure.Figure at 0x8608ba8>"
      ]
     },
     "metadata": {},
     "output_type": "display_data"
    }
   ],
   "source": [
    "pyplot.plot(x,p);"
   ]
  },
  {
   "cell_type": "code",
   "execution_count": null,
   "metadata": {
    "collapsed": true
   },
   "outputs": [],
   "source": []
  }
 ],
 "metadata": {
  "anaconda-cloud": {},
  "kernelspec": {
   "display_name": "Python [Root]",
   "language": "python",
   "name": "Python [Root]"
  },
  "language_info": {
   "codemirror_mode": {
    "name": "ipython",
    "version": 3
   },
   "file_extension": ".py",
   "mimetype": "text/x-python",
   "name": "python",
   "nbconvert_exporter": "python",
   "pygments_lexer": "ipython3",
   "version": "3.5.2"
  }
 },
 "nbformat": 4,
 "nbformat_minor": 0
}
