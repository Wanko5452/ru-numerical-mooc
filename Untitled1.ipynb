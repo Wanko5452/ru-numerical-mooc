{
 "cells": [
  {
   "cell_type": "code",
   "execution_count": 46,
   "metadata": {
    "collapsed": true
   },
   "outputs": [],
   "source": [
    "G=1.4\n",
    "tol=1e-6\n",
    "wl=[1.,0.,1.]\n",
    "wr=[0.125,0.,0.1]"
   ]
  },
  {
   "cell_type": "code",
   "execution_count": 47,
   "metadata": {
    "collapsed": true
   },
   "outputs": [],
   "source": [
    "def initial_press(wl,wr):\n",
    "    dl,ul,pl = wl\n",
    "    dr,ur,pr = wr\n",
    "    \n",
    "    cl=G*(pl/dl)**0.5\n",
    "    cr=G*(pl/dl)**0.5\n",
    "    \n",
    "    pPV=0.5*(pl+pr)-0.125*(ur-ul)*(dl-dr)*(cl-cr)\n",
    "    p0=max(tol, pPV)\n",
    "    \n",
    "    gl=((2/(G+1)/dl)/((G-1)/(G+1)*pl+pPV))**0.5\n",
    "    gr=((2/(G+1)/dr)/((G-1)/(G+1)*pr+pPV))**0.5\n",
    "    \n",
    "    p=(gl*pl+gr*pr-(ur-ul))/(gl+gr)\n",
    "    \n",
    "    \n",
    "    return p"
   ]
  },
  {
   "cell_type": "code",
   "execution_count": 83,
   "metadata": {
    "collapsed": false
   },
   "outputs": [],
   "source": [
    "def calc_f(p,dk,uk,pk):\n",
    "    ck = (G*pk/dk)**0.5\n",
    "    if p<=pk:\n",
    "        ratio_p = p/pk\n",
    "        f=2*ck/(G-1)*(ratio_p**(((G-1)/2/G))-1)\n",
    "        f_deriv=(1./(dk*ck))*ratio_p**((-G-1)/2/G)\n",
    "    \n",
    "    else:\n",
    "        Ak=2/(G+1)/dk\n",
    "        Bk=(G-1)/(G+1)*pk\n",
    "        f=(p-pk)*(Ak/(Bk+p))**0.5\n",
    "        f_deriv=(1-0.5*(p-pk)/(Bk+p))*(Ak/(Bk+p))**0.5\n",
    "    return f,f_deriv"
   ]
  },
  {
   "cell_type": "code",
   "execution_count": 84,
   "metadata": {
    "collapsed": false
   },
   "outputs": [
    {
     "data": {
      "text/plain": [
       "0.31526852260996635"
      ]
     },
     "execution_count": 84,
     "metadata": {},
     "output_type": "execute_result"
    }
   ],
   "source": [
    "initial_press(wl,wr)"
   ]
  },
  {
   "cell_type": "code",
   "execution_count": 85,
   "metadata": {
    "collapsed": true
   },
   "outputs": [],
   "source": [
    "def conv(wr,wl):\n",
    "    dl,ul,pl = wl\n",
    "    dr,ur,pr = wr\n",
    "    i=0\n",
    "    res=1\n",
    "    p0=initial_press(wl,wr)\n",
    "    \n",
    "    while res>tol and i<1000:\n",
    "        \n",
    "        fl,f_deriv_l=calc_f(p0,wl[0],wl[1],wl[2])\n",
    "        \n",
    "        fr,f_deriv_r=calc_f(p0,wr[0],wr[1],wr[2])\n",
    "        \n",
    "        p=p0-((fl+fr+ur-ul)/(f_deriv_l+f_deriv_r))\n",
    "        print(p)\n",
    "        \n",
    "        res=abs(2*(p-p0)/(p+p0))\n",
    "        \n",
    "        p0=p\n",
    "        i+=1\n",
    "    return p"
   ]
  },
  {
   "cell_type": "code",
   "execution_count": 86,
   "metadata": {
    "collapsed": false
   },
   "outputs": [
    {
     "name": "stdout",
     "output_type": "stream",
     "text": [
      "0.30294339890258304\n",
      "0.3031301329723227\n",
      "0.30313017805064424\n"
     ]
    },
    {
     "data": {
      "text/plain": [
       "0.30313017805064424"
      ]
     },
     "execution_count": 86,
     "metadata": {},
     "output_type": "execute_result"
    }
   ],
   "source": [
    "conv(wr,wl)"
   ]
  },
  {
   "cell_type": "code",
   "execution_count": null,
   "metadata": {
    "collapsed": true
   },
   "outputs": [],
   "source": []
  },
  {
   "cell_type": "code",
   "execution_count": null,
   "metadata": {
    "collapsed": true
   },
   "outputs": [],
   "source": []
  }
 ],
 "metadata": {
  "kernelspec": {
   "display_name": "Python [Root]",
   "language": "python",
   "name": "Python [Root]"
  },
  "language_info": {
   "codemirror_mode": {
    "name": "ipython",
    "version": 3
   },
   "file_extension": ".py",
   "mimetype": "text/x-python",
   "name": "python",
   "nbconvert_exporter": "python",
   "pygments_lexer": "ipython3",
   "version": "3.5.2"
  }
 },
 "nbformat": 4,
 "nbformat_minor": 0
}
